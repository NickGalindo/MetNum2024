{
  "nbformat": 4,
  "nbformat_minor": 0,
  "metadata": {
    "colab": {
      "provenance": [],
      "include_colab_link": true
    },
    "kernelspec": {
      "name": "python3",
      "display_name": "Python 3"
    },
    "language_info": {
      "name": "python"
    }
  },
  "cells": [
    {
      "cell_type": "markdown",
      "metadata": {
        "id": "view-in-github",
        "colab_type": "text"
      },
      "source": [
        "<a href=\"https://colab.research.google.com/github/NickGalindo/MetNumUN2024I/blob/master/Quiz9.2/Quiz9.2_ngalindoc.ipynb\" target=\"_parent\"><img src=\"https://colab.research.google.com/assets/colab-badge.svg\" alt=\"Open In Colab\"/></a>"
      ]
    },
    {
      "cell_type": "markdown",
      "source": [
        "### Cramer by hand\n",
        "\n",
        "$$A = \\left[\n",
        "  \\begin{array}{cc}\n",
        "1 & 2\\\\\n",
        "3 & 4\n",
        "\\end{array}\n",
        "\\right],  \n",
        "b= \\left[\n",
        "\\begin{array}{c}\n",
        "5\\\\\n",
        "6\n",
        "\\end{array}\n",
        "\\right]\n",
        "$$\n",
        "$$\n",
        "Ax =B\n",
        "$$\n",
        "$$  \n",
        "\\left[\n",
        "  \\begin{array}{cc}\n",
        "1 & 2\\\\\n",
        "3 & 4\n",
        "\\end{array}\n",
        "\\right]\n",
        "\\left[\n",
        "\\begin{array}{c}\n",
        "x_1\\\\\n",
        "x_2\n",
        "\\end{array}\n",
        "\\right]  \n",
        "=\n",
        "\\left[\n",
        "\\begin{array}{c}\n",
        "5\\\\\n",
        "6\n",
        "\\end{array}\n",
        "\\right]\n",
        "$$\n",
        "\n",
        "$$Det\\ A =  (1 * 4) - (3 * 2)  = 4 - 6 = -2$$\n",
        "\n",
        "$$A_1 = \\left[\n",
        "  \\begin{array}{cc}\n",
        "5 & 2\\\\\n",
        "6 & 4\n",
        "\\end{array}\n",
        "\\right]\n",
        "$$\n",
        "\n",
        "$$Det\\ A_1 = (5 * 4) - (6 * 2) = 20 - 12 =  8$$\n",
        "\n",
        "$$x_1 =  \\frac{Det\\ A_1}{Det\\ A}= \\frac{8}{-2} =  -4$$\n",
        "\n",
        "$$A_2 = \\left[\n",
        "  \\begin{array}{cc}\n",
        "1 & 5\\\\\n",
        "3 & 6\n",
        "\\end{array}\n",
        "\\right]\n",
        "$$\n",
        "\n",
        "$$Det\\ A_2 = (1*6) - (3*5)  = 6 -15 = -9$$\n",
        "\n",
        "$$x_2 = \\frac{Det\\ A_2}{Det\\ A}= \\frac{-9}{-2} =  \\frac{9}{2}$$"
      ],
      "metadata": {
        "id": "SUmNm2PmfHU7"
      }
    },
    {
      "cell_type": "markdown",
      "source": [
        "- ***Adding a single digit to any number requires about 7.30 bits of processing.\n",
        "\n",
        "*   List item\n",
        "*   List item\n",
        "\n",
        "*** - World Mental Calculation: News and Resources for Competitive and Advanced Mental Calculation https://worldmentalcalculation.com/2019/06/30/fastest-possible-processing-speed-of-the-human-brain/\n",
        "\n",
        "- ***The human brain can process 11 million bits of information every second. But our conscious minds can handle only 40 to 50 bits of information a second.*** - Understanding Unconscious Bias https://www.npr.org/2020/07/14/891140598/understanding-unconscious-bias\n",
        "\n",
        "- ***A new way to analyze human reaction times shows that the brain processes data no faster than 60 bits per second.***- New Measure of Human Brain Processing Speed https://www.technologyreview.com/2009/08/25/210267/new-measure-of-human-brain-processing-speed/\n",
        "\n",
        "\n"
      ],
      "metadata": {
        "id": "3rH8z64pk2XV"
      }
    },
    {
      "cell_type": "markdown",
      "source": [
        "# Number of operations to compute a determinant by cofactor expasion\n",
        "- Cofactor expansion https://people.math.carleton.ca/~kcheung/math/notes/MATH1107/07/07_cofactor_expansion.html\n",
        "## Definition of A(i∣j)\n",
        "Let $A$ be an $n\\times n$ matrix. Let $i,j \\in \\{1,…,n\\}$. We define $A(i∣j)$  to be the matrix obtained from $A$ by removing row $i$ and column $j$ from $A$.\n",
        "\n",
        "## Cofactor formula\n",
        "One way of computing the determinant of an $n\\times n$  matrix\n",
        "\n",
        "$$A = \\left[\n",
        "  \\begin{array}{cccc}\n",
        "a_{11} & a_{12} & \\cdots & a_{1n}\\\\\n",
        "a_{21} & a_{22} & \\cdots & a_{2n}\\\\\n",
        "\\vdots  & \\vdots & \\ddots & \\vdots\\\\\n",
        "a_{n1} & a_{n2} & \\cdots & a_{nn}\\\\\n",
        "\\end{array}\n",
        "\\right]\n",
        "$$\n",
        "is to use the following formula called the cofactor formula.\n",
        "\n",
        "Pick either any $i\\ \\in \\{1,…,n\\}$ (fixed row) or $i\\ \\in \\{1,…,n\\}$ (fixed column). Then\n",
        "\n",
        "$$\\det(A)  = \\sum_{j=1}^n (-1)^{i+j}a_{ij} \\det(A(i∣j)) $$\n",
        "\n",
        "\n",
        "$C_{i,j}= (-1)^{i+j}a_{ij} \\det(A(i∣j))$ is called a cofactor of $A$.\n",
        "\n",
        "$$\\det(A)  = \\sum_{j=1}^n C_{i,j} $$\n",
        "\n"
      ],
      "metadata": {
        "id": "CgrSIpDOnaGQ"
      }
    },
    {
      "cell_type": "code",
      "source": [
        "# Code from https://stackoverflow.com/questions/16510111/computing-determinant-of-a-matrix-nxn-recursively\n",
        "\n",
        "import numpy as np\n",
        "\n",
        "def smaller_matrix(original_matrix,row, column):\n",
        "    for ii in range(len(original_matrix)):\n",
        "        new_matrix=np.delete(original_matrix,ii,0)\n",
        "        new_matrix=np.delete(new_matrix,column,1)\n",
        "        return new_matrix\n",
        "\n",
        "\n",
        "def determinant(matrix):\n",
        "    \"\"\"Returns a determinant of a matrix by recursive method.\"\"\"\n",
        "    (r,c) = matrix.shape\n",
        "    if r != c:\n",
        "        print(\"Error!Not a square matrix!\")\n",
        "        return None\n",
        "    elif r==2:\n",
        "        simple_determinant = matrix[0][0]*matrix[1][1]-matrix[0][1]*matrix[1][0]\n",
        "        return simple_determinant\n",
        "    else:\n",
        "        answer=0\n",
        "        for j in range(r):\n",
        "            cofactor = (-1)**(0+j) * matrix[0][j] * determinant(smaller_matrix(matrix, 0, j))\n",
        "            answer+= cofactor\n",
        "        return answer"
      ],
      "metadata": {
        "id": "J-joKRBhC7eF"
      },
      "execution_count": null,
      "outputs": []
    },
    {
      "cell_type": "code",
      "source": [
        "#test the function\n",
        "#Only works for numpy.array input\n",
        "np.random.seed(1)"
      ],
      "metadata": {
        "id": "Il2pcRD4DptG"
      },
      "execution_count": null,
      "outputs": []
    },
    {
      "cell_type": "code",
      "source": [
        "n = 2\n",
        "matrix=np.random.randint(-5,5,size=(n,n))\n",
        "matrix"
      ],
      "metadata": {
        "colab": {
          "base_uri": "https://localhost:8080/"
        },
        "id": "AgKC1-aiFRW2",
        "outputId": "4a6f1d49-038f-453b-e6dc-0c86d09ce50b"
      },
      "execution_count": null,
      "outputs": [
        {
          "output_type": "execute_result",
          "data": {
            "text/plain": [
              "array([[0, 3],\n",
              "       [4, 0]])"
            ]
          },
          "metadata": {},
          "execution_count": 36
        }
      ]
    },
    {
      "cell_type": "code",
      "source": [
        "determinant(matrix)"
      ],
      "metadata": {
        "colab": {
          "base_uri": "https://localhost:8080/"
        },
        "outputId": "b6848f7f-7ea2-4237-e7eb-b7c21e0ac442",
        "id": "oI0rUp-SDptH"
      },
      "execution_count": null,
      "outputs": [
        {
          "output_type": "execute_result",
          "data": {
            "text/plain": [
              "-12"
            ]
          },
          "metadata": {},
          "execution_count": 37
        }
      ]
    },
    {
      "cell_type": "code",
      "source": [
        "np.linalg.det(matrix)"
      ],
      "metadata": {
        "colab": {
          "base_uri": "https://localhost:8080/"
        },
        "id": "iqZv7iK-KKXH",
        "outputId": "1ce580f8-fe15-4968-f59a-dabafd461420"
      },
      "execution_count": null,
      "outputs": [
        {
          "output_type": "execute_result",
          "data": {
            "text/plain": [
              "-12.0"
            ]
          },
          "metadata": {},
          "execution_count": 38
        }
      ]
    },
    {
      "cell_type": "code",
      "source": [
        "round(np.linalg.det(matrix))"
      ],
      "metadata": {
        "colab": {
          "base_uri": "https://localhost:8080/"
        },
        "id": "sY21rHM-KdlO",
        "outputId": "936f670c-4c9a-4226-83f0-7cd0b00aab62"
      },
      "execution_count": null,
      "outputs": [
        {
          "output_type": "execute_result",
          "data": {
            "text/plain": [
              "-12"
            ]
          },
          "metadata": {},
          "execution_count": 39
        }
      ]
    },
    {
      "cell_type": "code",
      "source": [
        "n = 5\n",
        "matrix=np.diag(np.random.randint(-10,10,size=(n)))\n",
        "matrix"
      ],
      "metadata": {
        "colab": {
          "base_uri": "https://localhost:8080/"
        },
        "id": "-QXGZWFIDs5k",
        "outputId": "a9471c16-ad5e-46c5-aa7f-3d3f4729da9a"
      },
      "execution_count": null,
      "outputs": [
        {
          "output_type": "execute_result",
          "data": {
            "text/plain": [
              "array([[  5,   0,   0,   0,   0],\n",
              "       [  0, -10,   0,   0,   0],\n",
              "       [  0,   0,   6,   0,   0],\n",
              "       [  0,   0,   0,  -9,   0],\n",
              "       [  0,   0,   0,   0,   2]])"
            ]
          },
          "metadata": {},
          "execution_count": 40
        }
      ]
    },
    {
      "cell_type": "code",
      "source": [
        "determinant(matrix)"
      ],
      "metadata": {
        "colab": {
          "base_uri": "https://localhost:8080/"
        },
        "id": "VP6hRwhwD-3W",
        "outputId": "47d106b5-6e20-459a-99f0-e0268d68aa19"
      },
      "execution_count": null,
      "outputs": [
        {
          "output_type": "execute_result",
          "data": {
            "text/plain": [
              "5400"
            ]
          },
          "metadata": {},
          "execution_count": 41
        }
      ]
    },
    {
      "cell_type": "code",
      "source": [
        "np.linalg.det(matrix)"
      ],
      "metadata": {
        "colab": {
          "base_uri": "https://localhost:8080/"
        },
        "id": "8NV7Zvp-KtRz",
        "outputId": "bb51090a-5d60-4a58-af1e-bb0a32901155"
      },
      "execution_count": null,
      "outputs": [
        {
          "output_type": "execute_result",
          "data": {
            "text/plain": [
              "5400.000000000003"
            ]
          },
          "metadata": {},
          "execution_count": 42
        }
      ]
    },
    {
      "cell_type": "code",
      "source": [
        "round(np.linalg.det(matrix))"
      ],
      "metadata": {
        "colab": {
          "base_uri": "https://localhost:8080/"
        },
        "id": "HXKK3weLKt5T",
        "outputId": "6efd5722-21be-4bf9-aa80-bdb4018ded28"
      },
      "execution_count": null,
      "outputs": [
        {
          "output_type": "execute_result",
          "data": {
            "text/plain": [
              "5400"
            ]
          },
          "metadata": {},
          "execution_count": 43
        }
      ]
    },
    {
      "cell_type": "code",
      "source": [
        "# Modified from the previous code\n",
        "import numpy as np\n",
        "\n",
        "# A a squared numpy matrix\n",
        "def det(A):\n",
        "    \"\"\"Returns a determinant of a matrix by recursive method.\"\"\"\n",
        "    (r,c) = A.shape\n",
        "    if r != c:\n",
        "        print(\"Error!Not a square matrix!\")\n",
        "        return None\n",
        "    elif r==1:\n",
        "          # the code with  r==2 is more efficient but we use this\n",
        "         # because the number of operations is easier to compute\n",
        "        return A[0][0]\n",
        "    else:\n",
        "        answer=0\n",
        "        for j in range(r):\n",
        "            s = 1 if (0+j)%2 == 0 else -1\n",
        "            Aij = np.delete(A,0,0)\n",
        "            Aij = np.delete(Aij,j,1)\n",
        "            cofactor = (s) * A[0][j] * det(Aij)\n",
        "            answer+= cofactor\n",
        "        return answer"
      ],
      "metadata": {
        "id": "B258g8lnBgnG"
      },
      "execution_count": null,
      "outputs": []
    },
    {
      "cell_type": "code",
      "source": [
        "#test the function\n",
        "#Only works for numpy.array input\n",
        "np.random.seed(1)"
      ],
      "metadata": {
        "id": "ZR2mjlqiGdM6"
      },
      "execution_count": null,
      "outputs": []
    },
    {
      "cell_type": "code",
      "source": [
        "n = 2\n",
        "A=np.random.randint(-5,5,size=(n,n))\n",
        "A"
      ],
      "metadata": {
        "colab": {
          "base_uri": "https://localhost:8080/"
        },
        "outputId": "f8e053ef-6f63-4732-cc0e-68dd173676be",
        "id": "jPpBCFaoGlak"
      },
      "execution_count": null,
      "outputs": [
        {
          "output_type": "execute_result",
          "data": {
            "text/plain": [
              "array([[0, 3],\n",
              "       [4, 0]])"
            ]
          },
          "metadata": {},
          "execution_count": 46
        }
      ]
    },
    {
      "cell_type": "code",
      "source": [
        "det(A)"
      ],
      "metadata": {
        "colab": {
          "base_uri": "https://localhost:8080/"
        },
        "outputId": "ca2892d8-987e-427f-c947-73ffa892820f",
        "id": "WKbuirZeGlak"
      },
      "execution_count": null,
      "outputs": [
        {
          "output_type": "execute_result",
          "data": {
            "text/plain": [
              "-12"
            ]
          },
          "metadata": {},
          "execution_count": 47
        }
      ]
    },
    {
      "cell_type": "code",
      "source": [
        "determinant(A)"
      ],
      "metadata": {
        "colab": {
          "base_uri": "https://localhost:8080/"
        },
        "id": "_B5xBFirTvQm",
        "outputId": "18f99a50-c687-4086-c75c-25e231427da8"
      },
      "execution_count": null,
      "outputs": [
        {
          "output_type": "execute_result",
          "data": {
            "text/plain": [
              "-12"
            ]
          },
          "metadata": {},
          "execution_count": 48
        }
      ]
    },
    {
      "cell_type": "code",
      "source": [
        "np.linalg.det(A)"
      ],
      "metadata": {
        "colab": {
          "base_uri": "https://localhost:8080/"
        },
        "outputId": "0c754856-639e-4433-fb02-48ece86664a2",
        "id": "bRyF2dsFLbXC"
      },
      "execution_count": null,
      "outputs": [
        {
          "output_type": "execute_result",
          "data": {
            "text/plain": [
              "-12.0"
            ]
          },
          "metadata": {},
          "execution_count": 49
        }
      ]
    },
    {
      "cell_type": "code",
      "source": [
        "round(np.linalg.det(A))"
      ],
      "metadata": {
        "colab": {
          "base_uri": "https://localhost:8080/"
        },
        "outputId": "d4b925dd-0f97-4da6-8a9a-d369f459439b",
        "id": "sOe1w9FPLbXD"
      },
      "execution_count": null,
      "outputs": [
        {
          "output_type": "execute_result",
          "data": {
            "text/plain": [
              "-12"
            ]
          },
          "metadata": {},
          "execution_count": 50
        }
      ]
    },
    {
      "cell_type": "code",
      "source": [
        "n = 10\n",
        "\n",
        "A=np.random.randint(-10,10,size=(n,n))\n",
        "\n",
        "A"
      ],
      "metadata": {
        "colab": {
          "base_uri": "https://localhost:8080/"
        },
        "outputId": "46faaa6c-d029-4710-d49d-a2a6b1401ccd",
        "id": "jzFX1soHGlak"
      },
      "execution_count": null,
      "outputs": [
        {
          "output_type": "execute_result",
          "data": {
            "text/plain": [
              "array([[  5, -10,   6,  -9,   2,  -3,   3,  -4,   8,  -5],\n",
              "       [  8,   1,   0,   4,   8,  -6,  -1,   7, -10,   3],\n",
              "       [ -1,  -1,  -3,  -9, -10,   7,  -2,   3,   9,   5],\n",
              "       [  0,  -2,  -3,  -7,  -4,   7,  -7,  -6,   7,   1],\n",
              "       [  2,   6,   3,   9,  -1,   8,   5, -10,  -6,   5],\n",
              "       [ -8,  -3,  -2,  -1,  -7,  -3,  -6,  -5,   9,  -4],\n",
              "       [ -2, -10,  -8,   0,   5,   5,  -3,   9,   0,   4],\n",
              "       [-10,  -9,   7,   3,  -7, -10,   3,  -4,  -4,  -8],\n",
              "       [  2,   1,  -3,   3,  -2,   1,   2,   1,  -6,  -3],\n",
              "       [ -3,   3,  -6,   6,   8, -10,   3,   0,   7,  -3]])"
            ]
          },
          "metadata": {},
          "execution_count": 51
        }
      ]
    },
    {
      "cell_type": "code",
      "source": [
        "import time\n",
        "\n",
        "start_time = time.time()\n",
        "d = det(A)\n",
        "end_time = time.time()"
      ],
      "metadata": {
        "id": "I97qAqxGGlak"
      },
      "execution_count": null,
      "outputs": []
    },
    {
      "cell_type": "code",
      "source": [
        "print(\"det(A): \",d)\n",
        "print(\"time: \",end_time - start_time)"
      ],
      "metadata": {
        "colab": {
          "base_uri": "https://localhost:8080/"
        },
        "id": "s7Ud-gBiTD0n",
        "outputId": "d1cd119d-e170-46c8-c4ca-ebf432b6d376"
      },
      "execution_count": null,
      "outputs": [
        {
          "output_type": "stream",
          "name": "stdout",
          "text": [
            "det(A):  29129065307\n",
            "time:  77.39920783042908\n"
          ]
        }
      ]
    },
    {
      "cell_type": "code",
      "source": [
        "import time\n",
        "\n",
        "start_time = time.time()\n",
        "d = determinant(A)\n",
        "end_time = time.time()"
      ],
      "metadata": {
        "id": "kjLXFQOeTRd2"
      },
      "execution_count": null,
      "outputs": []
    },
    {
      "cell_type": "code",
      "source": [
        "print(\"determinant(A): \",d)\n",
        "print(\"time: \",end_time - start_time)"
      ],
      "metadata": {
        "colab": {
          "base_uri": "https://localhost:8080/"
        },
        "id": "_TQFWy4ZSiDZ",
        "outputId": "fe3e5383-1786-495a-f474-7ac4cddc5b14"
      },
      "execution_count": null,
      "outputs": [
        {
          "output_type": "stream",
          "name": "stdout",
          "text": [
            "determinant(A):  29129065307\n",
            "time:  35.02712106704712\n"
          ]
        }
      ]
    },
    {
      "cell_type": "code",
      "source": [
        "import time\n",
        "\n",
        "start_time = time.time()\n",
        "d = np.linalg.det(A)\n",
        "end_time = time.time()"
      ],
      "metadata": {
        "id": "jL23i77VT55-"
      },
      "execution_count": null,
      "outputs": []
    },
    {
      "cell_type": "code",
      "source": [
        "print(\"np.linalg.det(A): \",d)\n",
        "print(\"time: \",end_time - start_time)"
      ],
      "metadata": {
        "colab": {
          "base_uri": "https://localhost:8080/"
        },
        "id": "n94nx14VT5wn",
        "outputId": "80a0d002-e9ce-4c14-9604-7b82b86c070c"
      },
      "execution_count": null,
      "outputs": [
        {
          "output_type": "stream",
          "name": "stdout",
          "text": [
            "np.linalg.det(A):  29129065306.99992\n",
            "time:  0.0003056526184082031\n"
          ]
        }
      ]
    },
    {
      "cell_type": "markdown",
      "source": [
        "# Estimating the time by instruction in Python in a Colab machine"
      ],
      "metadata": {
        "id": "Ssedt2z56DNC"
      }
    },
    {
      "cell_type": "code",
      "source": [
        "import numpy as np\n",
        "\n",
        "n = 100\n",
        "\n",
        "A = np.ones((n,n))\n",
        "\n",
        "A"
      ],
      "metadata": {
        "colab": {
          "base_uri": "https://localhost:8080/"
        },
        "id": "1KhlyeNi4uwa",
        "outputId": "daf5a3d5-616d-4811-ef88-17061a45f56b"
      },
      "execution_count": null,
      "outputs": [
        {
          "output_type": "execute_result",
          "data": {
            "text/plain": [
              "array([[1., 1., 1., ..., 1., 1., 1.],\n",
              "       [1., 1., 1., ..., 1., 1., 1.],\n",
              "       [1., 1., 1., ..., 1., 1., 1.],\n",
              "       ...,\n",
              "       [1., 1., 1., ..., 1., 1., 1.],\n",
              "       [1., 1., 1., ..., 1., 1., 1.],\n",
              "       [1., 1., 1., ..., 1., 1., 1.]])"
            ]
          },
          "metadata": {},
          "execution_count": 7
        }
      ]
    },
    {
      "cell_type": "code",
      "source": [
        "B = np.ones((n,n))\n",
        "\n",
        "B"
      ],
      "metadata": {
        "colab": {
          "base_uri": "https://localhost:8080/"
        },
        "id": "RKtHO3UY5M87",
        "outputId": "b4dfe81d-11f8-482a-d2a3-dde69af54aa0"
      },
      "execution_count": null,
      "outputs": [
        {
          "output_type": "execute_result",
          "data": {
            "text/plain": [
              "array([[1., 1., 1., ..., 1., 1., 1.],\n",
              "       [1., 1., 1., ..., 1., 1., 1.],\n",
              "       [1., 1., 1., ..., 1., 1., 1.],\n",
              "       ...,\n",
              "       [1., 1., 1., ..., 1., 1., 1.],\n",
              "       [1., 1., 1., ..., 1., 1., 1.],\n",
              "       [1., 1., 1., ..., 1., 1., 1.]])"
            ]
          },
          "metadata": {},
          "execution_count": 8
        }
      ]
    },
    {
      "cell_type": "code",
      "source": [
        "import time\n",
        "\n",
        "C= np.zeros((n,n))\n",
        "\n",
        "start_time = time.time()\n",
        "for i in range(n):\n",
        "        for j in range(n):\n",
        "            C[i][j] = 0\n",
        "            for k in range(len(A[0])):\n",
        "                C[i][j] += A[i][k] * B[k][j]\n",
        "end_time = time.time()\n",
        "print(end_time - start_time)"
      ],
      "metadata": {
        "colab": {
          "base_uri": "https://localhost:8080/"
        },
        "id": "0UFSLi-F5P0a",
        "outputId": "991b45a0-9644-42b6-f6b0-6c2d89520013"
      },
      "execution_count": null,
      "outputs": [
        {
          "output_type": "stream",
          "name": "stdout",
          "text": [
            "1.1359033584594727\n"
          ]
        }
      ]
    },
    {
      "cell_type": "code",
      "source": [
        "C"
      ],
      "metadata": {
        "colab": {
          "base_uri": "https://localhost:8080/"
        },
        "id": "h9zr4Z9P61bs",
        "outputId": "a629f0aa-0932-4128-c44f-0731d91b4b34"
      },
      "execution_count": null,
      "outputs": [
        {
          "output_type": "execute_result",
          "data": {
            "text/plain": [
              "array([[100., 100., 100., ..., 100., 100., 100.],\n",
              "       [100., 100., 100., ..., 100., 100., 100.],\n",
              "       [100., 100., 100., ..., 100., 100., 100.],\n",
              "       ...,\n",
              "       [100., 100., 100., ..., 100., 100., 100.],\n",
              "       [100., 100., 100., ..., 100., 100., 100.],\n",
              "       [100., 100., 100., ..., 100., 100., 100.]])"
            ]
          },
          "metadata": {},
          "execution_count": 11
        }
      ]
    },
    {
      "cell_type": "code",
      "source": [
        "time_by_oper_python = (end_time - start_time)/(2*n**3 - n**2)\n",
        "\n",
        "time_by_oper_python"
      ],
      "metadata": {
        "colab": {
          "base_uri": "https://localhost:8080/"
        },
        "id": "iEhaMEK77Ko7",
        "outputId": "87d9f92b-7aa0-4bb2-a6f8-3eddb5a52300"
      },
      "execution_count": null,
      "outputs": [
        {
          "output_type": "execute_result",
          "data": {
            "text/plain": [
              "5.708057077685792e-07"
            ]
          },
          "metadata": {},
          "execution_count": 22
        }
      ]
    },
    {
      "cell_type": "code",
      "source": [
        "import time\n",
        "import numpy as np\n",
        "\n",
        "start_time = time.time()\n",
        "C = A@B\n",
        "end_time = time.time()\n",
        "print(end_time - start_time)"
      ],
      "metadata": {
        "colab": {
          "base_uri": "https://localhost:8080/"
        },
        "id": "TfGsw6UF9o-a",
        "outputId": "c3be2bd3-fb0a-44f4-ea5d-fc1061d743c7"
      },
      "execution_count": null,
      "outputs": [
        {
          "output_type": "stream",
          "name": "stdout",
          "text": [
            "0.001438140869140625\n"
          ]
        }
      ]
    },
    {
      "cell_type": "code",
      "source": [
        "C"
      ],
      "metadata": {
        "colab": {
          "base_uri": "https://localhost:8080/"
        },
        "id": "Q5MtZtVT93oQ",
        "outputId": "3d766f10-d8b4-4635-8f8f-ae6f74b713a9"
      },
      "execution_count": null,
      "outputs": [
        {
          "output_type": "execute_result",
          "data": {
            "text/plain": [
              "array([[100., 100., 100., ..., 100., 100., 100.],\n",
              "       [100., 100., 100., ..., 100., 100., 100.],\n",
              "       [100., 100., 100., ..., 100., 100., 100.],\n",
              "       ...,\n",
              "       [100., 100., 100., ..., 100., 100., 100.],\n",
              "       [100., 100., 100., ..., 100., 100., 100.],\n",
              "       [100., 100., 100., ..., 100., 100., 100.]])"
            ]
          },
          "metadata": {},
          "execution_count": 17
        }
      ]
    },
    {
      "cell_type": "code",
      "source": [
        "time_by_oper_numpy = (end_time - start_time)/(2*n**3 - n**2)\n",
        "\n",
        "time_by_oper_numpy"
      ],
      "metadata": {
        "colab": {
          "base_uri": "https://localhost:8080/"
        },
        "id": "DTVYQYxT-TsJ",
        "outputId": "161f7fd8-f393-4d62-ee3c-5091895c4b32"
      },
      "execution_count": null,
      "outputs": [
        {
          "output_type": "execute_result",
          "data": {
            "text/plain": [
              "7.226838538395101e-10"
            ]
          },
          "metadata": {},
          "execution_count": 25
        }
      ]
    },
    {
      "cell_type": "markdown",
      "source": [
        "# Time estimation for the digital computer computation of a 3 x 3 matrix determinant by cofactor expansion\n",
        "\n",
        "The number of operations $(+,-,*)$ perfomed  *det(A)* algorithm that calculates\n",
        "\n",
        "$$\\det(A)  = \\sum_{j=1}^n (-1)^{i+j}a_{ij} \\det(A(i∣j)) $$\n",
        "\n",
        "is given by\n",
        "\n",
        "$$\\begin{array}{lll}\n",
        "T(n) & =&  nT(n-1) + 5n , T(1) = 1\\\\\n",
        "\\end{array}\n",
        "$$\n",
        "\n",
        "$$\\begin{array}{lll}\n",
        "T(n) & =&  nT(n-1) + 5n\\\\\n",
        "     & =&  n[(n-1) T(n-2) + 5 (n-1) +10] + 5n  \\\\\n",
        "     & =&  n(n-1) T(n-2) + 5 n  (n-1) + 5n \\\\\n",
        "     & =&  n(n-1) [(n-2) T(n-3) + 5 (n-2)] + 5 n(n-1) + 5n\\\\\n",
        "     & = & n(n-1)(n-2) T(n-3) + 5n(n-1)(n-2)+  5 n  (n-1) + 5n \\\\\n",
        "     & \\vdots\\\\\n",
        "     & = &  n(n-1)(n-2)\\cdots (n -(n-2))  T(1) + [5n(n-1)(n-2)(n-3)\\cdots (n -(n-3))] + \\cdots + [5 n (n-1)]+ 5n \\\\\n",
        "    & = & n! + [5n(n-1)(n-2)(n-3)\\cdots 2] + [5n(n-1)(n-2)(n-3)\\cdots 3]+ \\cdots +[5 n (n-1) (n-3)] + [5 n (n-1)]+ 5n  \n",
        "\\end{array}\n",
        "$$\n",
        "\n",
        "$$T(n) = n! + 5 \\sum_{i=0}^{n-1} n!/i! = n! + 5 n!\\sum_{i=0}^{n-1} \\frac{1}{i!} < n! + 5 e n! < 16 n!  $$\n",
        "\n",
        "1. Asumming that an arithmetic operation takes the *time_by_oper_python* estimated before,  what is the maximun square matrix size for which the deteminant can be computed with cofactor extesion in $\\le$ 3 minute. Report the time at [LABCramer](https://docs.google.com/spreadsheets/d/1JNUbuj3QHcyPmp8i6kNreUFucj2mOvKHkCFHHy7zfws/edit?usp=sharing).\n",
        "\n",
        "2. Run an experiment with a random matrix of that size and report the time at [LABCramer](https://docs.google.com/spreadsheets/d/1JNUbuj3QHcyPmp8i6kNreUFucj2mOvKHkCFHHy7zfws/edit?usp=sharing).\n",
        "\n",
        "If the determinant of a $n \\times n$ square matrix takes $16 n!$ operations how much takes the Crammer solution of $n \\times n$ systems of linear equations?\n",
        "\n",
        "\n",
        "\n",
        "\n"
      ],
      "metadata": {
        "id": "PhAai3wzo_Tc"
      }
    },
    {
      "cell_type": "code",
      "source": [
        "import math\n",
        "\n",
        "def cofactor(n):\n",
        "    return math.factorial(n) + 5 * sum(math.factorial(n) // math.factorial(i) for i in range(n))\n",
        "\n",
        "time_by_oper_python = 5.708057077685792e-07\n",
        "\n",
        "tot = 3 * 60\n",
        "n = 1\n",
        "t = 0\n",
        "while t < tot:\n",
        "    t = cofactor(n) * time_by_oper_python\n",
        "    n += 1\n",
        "\n",
        "n-=1\n",
        "print(\"Max Size:\", n-1)\n",
        "print(\"Time:\", cofactor(n-1) * time_by_oper_python)"
      ],
      "metadata": {
        "colab": {
          "base_uri": "https://localhost:8080/"
        },
        "id": "Uh7J6j0T2YIT",
        "outputId": "4ef86d18-a6e5-4b57-9776-05355fc66b1a"
      },
      "execution_count": 6,
      "outputs": [
        {
          "output_type": "stream",
          "name": "stdout",
          "text": [
            "Max Size: 10\n",
            "Time: 30.223762662350833\n"
          ]
        }
      ]
    },
    {
      "cell_type": "code",
      "source": [
        "import numpy as np\n",
        "import math\n",
        "import time\n",
        "\n",
        "\n",
        "def det_n(matrix):\n",
        "    n = len(matrix)\n",
        "    if n == 1:\n",
        "        return matrix[0, 0]\n",
        "\n",
        "    det = 0\n",
        "    for j in range(n):\n",
        "        s = (-1)**j\n",
        "        sub = np.delete(matrix, 0, axis=0)\n",
        "        sub = np.delete(sub, j, axis=1)\n",
        "        det += s * matrix[0, j] * det_n(sub)\n",
        "\n",
        "    return det\n",
        "\n",
        "r_m = np.random.randint(1, 10, size=(10, 10))\n",
        "\n",
        "start_time = time.time()\n",
        "determinant = det_n(r_m)\n",
        "end_time = time.time()\n",
        "\n",
        "print(\"Det:\", determinant)\n",
        "print(\"Time:\", end_time - start_time)"
      ],
      "metadata": {
        "colab": {
          "base_uri": "https://localhost:8080/"
        },
        "id": "IpDe-FPh5Oii",
        "outputId": "b96f28e4-b1d2-462a-ca94-3868e200e4a0"
      },
      "execution_count": 11,
      "outputs": [
        {
          "output_type": "stream",
          "name": "stdout",
          "text": [
            "Det: 215580667\n",
            "Time: 69.82267832756042\n"
          ]
        }
      ]
    },
    {
      "cell_type": "markdown",
      "source": [
        "# Time estimation for the human computer computation of a 3 x 3 matrix determinant by cofactor expansion\n",
        "\n",
        " Write a 3 x 3 matrix with the first element as your list number Mod 10 and the rest row by row 1,2,3,...9 skipimg the first element, by example if youir list number is 12, your list number Mod 10 is 2 and the matrix is\n",
        "$$A = \\left[\n",
        "  \\begin{array}{ccc}\n",
        "2 & 1 & 3\\\\\n",
        "4 & 5 & 6\\\\\n",
        "7 & 8 & 9\\\\\n",
        "\\end{array}\n",
        "\\right]\n",
        "$$\n",
        "Use a chronometer like http://online-stopwatch.chronme.com/ to estimate the time to compute the determinant by using the procedure in the follo wing exmaple (https://people.math.carleton.ca/~kcheung/math/notes/MATH1107/07/07_cofactor_expansion.html):<br />  \n",
        "Let\n",
        "$$A = \\begin{bmatrix} 10 & 2 & 3\\\\ 4 & 5 & 6\\\\ 7 & 8 & 9 \\end{bmatrix}$$\n",
        "we compute $\\det(A)$ by expanding along row $2$ as <br /> <br />\n",
        "$$\\begin{eqnarray} \\det(A) & = & (-1)^{2+1}A_{2,1}\\det(A(2 \\mid 1)) + (-1)^{2+2}A_{2,2}\\det(A(2 \\mid 2)) + (-1)^{2+3}A_{2,3}\\det(A(2 \\mid 3)) \\\\ & = & -10\\left|\\begin{matrix} 2 & 3 \\\\ 8 & 9\\end{matrix}\\right| + 5\\left|\\begin{matrix} 1 & 3 \\\\ 7 & 9\\end{matrix}\\right| - 6\\left|\\begin{matrix} 1 & 2 \\\\ 7 & 8\\end{matrix}\\right| \\\\ & = & -10(2\\cdot 9 - 3\\cdot 8) + 5(1 \\cdot 9- 3\\cdot 7) - 6(1\\cdot 8 - 2 \\cdot 7) \\\\ & = & 60 - 60 + 36 \\\\ & = & 36\\end{eqnarray}$$\n",
        "3. Report the time at [LABCramer](https://docs.google.com/spreadsheets/d/1JNUbuj3QHcyPmp8i6kNreUFucj2mOvKHkCFHHy7zfws/edit?usp=sharing)\n",
        "4. Report the value of the determinant at [LABCramer](https://docs.google.com/spreadsheets/d/1JNUbuj3QHcyPmp8i6kNreUFucj2mOvKHkCFHHy7zfws/edit?usp=sharing)\n"
      ],
      "metadata": {
        "id": "__brdhGadAXY"
      }
    },
    {
      "cell_type": "markdown",
      "source": [
        "### My list number is 17 matrix:\n",
        "$$A = \\left[\n",
        "  \\begin{array}{ccc}\n",
        "7 & 1 & 2\\\\\n",
        "3 & 4 & 5\\\\\n",
        "6 & 8 & 9\\\\\n",
        "\\end{array}\n",
        "\\right]\n",
        "$$"
      ],
      "metadata": {
        "id": "mJ-Ig2kr6t5_"
      }
    },
    {
      "cell_type": "markdown",
      "source": [
        "![image.png](data:image/png;base64,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)"
      ],
      "metadata": {
        "id": "74thWND07C5y"
      }
    },
    {
      "cell_type": "markdown",
      "source": [
        "#### DETERMINANT = -25"
      ],
      "metadata": {
        "id": "O_bPJDux7EDl"
      }
    }
  ]
}